{
 "cells": [
  {
   "cell_type": "markdown",
   "metadata": {},
   "source": [
    "# Assignment 3"
   ]
  },
  {
   "cell_type": "markdown",
   "metadata": {},
   "source": [
    "### Write a function to count the number 4 in a given list."
   ]
  },
  {
   "cell_type": "code",
   "execution_count": null,
   "metadata": {},
   "outputs": [],
   "source": [
    "def count(list1):\n",
    "    c=0\n",
    "    x=len(list1)\n",
    "    for i in range(0,x):\n",
    "        if list1[i]==4:\n",
    "            c+=1\n",
    "    print('The number of 4 is:',c)\n",
    "\n",
    "list1=[0,1,2,3,4,5,4,4,6,7,8,9,4]\n",
    "count(list1)"
   ]
  },
  {
   "cell_type": "markdown",
   "metadata": {},
   "source": [
    "### write a  function to check whether a number is divisible by another number."
   ]
  },
  {
   "cell_type": "code",
   "execution_count": null,
   "metadata": {},
   "outputs": [],
   "source": [
    "def dvis(x,y):\n",
    "    if x%y==0:\n",
    "        print(\"divisble\")\n",
    "    else:\n",
    "        print('not divisble' )\n",
    "\n",
    "x=int(input(\"please enter a number\"))\n",
    "y=int(input(\"please enter a number\"))\n",
    "dvis(x,y)"
   ]
  },
  {
   "cell_type": "markdown",
   "metadata": {},
   "source": [
    "### write a function to find the maximum and minimum numbers from a sequence of numbers."
   ]
  },
  {
   "cell_type": "code",
   "execution_count": null,
   "metadata": {},
   "outputs": [],
   "source": [
    "def funcmin(list):\n",
    "    min=list[0]\n",
    "    for i in list:\n",
    "        if i<min:\n",
    "            min=i\n",
    "    return(min)\n",
    "    \n",
    "def funcmax(list):\n",
    "    max=list[0]\n",
    "    for i in list:\n",
    "        if i>max:\n",
    "            max=i\n",
    "    return(max) \n",
    "list=[1,3,5,9,14,15,20,30,100,-9,0]\n",
    "min=funcmin(list)\n",
    "max=funcmax(list)\n",
    "print(min,max)\n",
    "        "
   ]
  },
  {
   "cell_type": "markdown",
   "metadata": {},
   "source": [
    "### Write a Python function that takes two lists and returns True if they have at least one common member."
   ]
  },
  {
   "cell_type": "code",
   "execution_count": null,
   "metadata": {},
   "outputs": [],
   "source": [
    "def common(list1,list2):\n",
    "    x=len(list1)\n",
    "    y=len(list2)\n",
    "    c=0\n",
    "    for i in range (0,x):\n",
    "        for j in range (0,y):\n",
    "            if list1[i]==list2[j]:\n",
    "                c+=1\n",
    "                \n",
    "    print('Number of common members is :',c)\n",
    "list1=[1,3,5,9,14,15,20,30,100,-9,0]\n",
    "list2=[2,7,8,5,100]\n",
    "common(list1,list2)"
   ]
  },
  {
   "cell_type": "markdown",
   "metadata": {},
   "source": [
    "### Write a Python function to calculate the factorial of a number (a non-negative integer). The function accepts the number from the user"
   ]
  },
  {
   "cell_type": "code",
   "execution_count": null,
   "metadata": {},
   "outputs": [],
   "source": [
    "def fact(x):\n",
    "    factorial=1\n",
    "    if x==1:\n",
    "        factorial=1\n",
    "        return factorial\n",
    "    elif x<=0:\n",
    "        factorial=0\n",
    "        return factorial\n",
    "    elif x>1:\n",
    "        x+=1\n",
    "        for i in range (1,x):\n",
    "            factorial=factorial*i\n",
    "        return factorial\n",
    "            \n",
    "            \n",
    "\n",
    "x=int(input(\"Please enter a number to calculate \"))\n",
    "y=fact(x)\n",
    "print(y)\n"
   ]
  },
  {
   "cell_type": "markdown",
   "metadata": {},
   "source": [
    "### Write a Python function to check whether a number is in a given range.\n",
    "\n",
    "### The range is from 3 to 11\n"
   ]
  },
  {
   "cell_type": "code",
   "execution_count": null,
   "metadata": {},
   "outputs": [],
   "source": [
    "def rangee(x):\n",
    "    if x>=3 and x<=11:\n",
    "        print(\"its in range\")\n",
    "x=float(input(\"Please enter a number\"))\n",
    "rangee(x)"
   ]
  },
  {
   "cell_type": "markdown",
   "metadata": {},
   "source": [
    "### Write a  program to create the multiplication table (from 1 to 10) of a number."
   ]
  },
  {
   "cell_type": "code",
   "execution_count": null,
   "metadata": {},
   "outputs": [],
   "source": [
    "def multii(x):\n",
    "    list1=[]\n",
    "    for i in range(1,11):\n",
    "        y=x*i\n",
    "        list1.append(y)\n",
    "    print(list1)\n",
    "x=float(input(\"please enter a number\"))\n",
    "multii(x)"
   ]
  },
  {
   "cell_type": "markdown",
   "metadata": {},
   "source": [
    "#### LESSER OF TWO EVENS: Write a function that returns the lesser of two given numbers *if* both numbers are even, but returns the greater if one or both numbers are odd\n",
    "    lesser_of_two_evens(2,4) --> 2\n",
    "    lesser_of_two_evens(2,5) --> 5"
   ]
  },
  {
   "cell_type": "code",
   "execution_count": null,
   "metadata": {},
   "outputs": [],
   "source": [
    "def check(x,y):\n",
    "    if x%2==0 and y%2==0:\n",
    "        if x<=y:\n",
    "            return x\n",
    "        else :\n",
    "            return y\n",
    "    elif y%2 !=0  and x%2==0:\n",
    "        return y\n",
    "    elif x%2 !=0 and y%2==0:\n",
    "        return x\n",
    "    elif x%2 !=0 and y%2!=0:\n",
    "         if x>=y:\n",
    "            return x\n",
    "         else:\n",
    "            return y\n",
    "        \n",
    "        \n",
    "\n",
    "x=int(input(\"please enter a number\"))\n",
    "y=int(input(\"please enter a number\"))\n",
    "check(x,y)\n"
   ]
  },
  {
   "cell_type": "markdown",
   "metadata": {},
   "source": [
    "#### ANIMAL CRACKERS: Write a function takes a two-word string and returns True if both words begin with same letter\n",
    "    animal_crackers('Levelheaded Llama') --> True\n",
    "    animal_crackers('Crazy Kangaroo') --> False"
   ]
  },
  {
   "cell_type": "code",
   "execution_count": null,
   "metadata": {},
   "outputs": [],
   "source": [
    "def anicrac(x):\n",
    "    s=x.split()\n",
    "    list1=[]\n",
    "    for word in s:\n",
    "        list1.append(word[0])\n",
    "    if list1[0]==list1[1]:\n",
    "        print('True')\n",
    "    else:\n",
    "        print('false')\n",
    "        \n",
    "        \n",
    "        \n",
    "x=input(\"please enter two word string: \")\n",
    "anicrac(x)"
   ]
  },
  {
   "cell_type": "markdown",
   "metadata": {},
   "source": [
    "#### MAKES TWENTY: Given two integers, return True if the sum of the integers is 20 *or* if one of the integers is 20. If not, return False\n",
    "\n",
    "    makes_twenty(20,10) --> True\n",
    "    makes_twenty(12,8) --> True\n",
    "    makes_twenty(2,3) --> False"
   ]
  },
  {
   "cell_type": "code",
   "execution_count": null,
   "metadata": {},
   "outputs": [],
   "source": [
    "def check(x,y):\n",
    "    u=x+y\n",
    "    if u>=20 or x>=20 or y>=20:\n",
    "        print('True')\n",
    "    else:\n",
    "        print('False')\n",
    "x=int(input(\"please enter a number\"))\n",
    "y=int(input(\"please enter a number\"))\n",
    "check(x,y)"
   ]
  },
  {
   "cell_type": "markdown",
   "metadata": {},
   "source": [
    "#### ALMOST THERE: Given an integer n, return True if n is within 10 of either 100 or 200\n",
    "\n",
    "    almost_there(90) --> True\n",
    "    almost_there(104) --> True\n",
    "    almost_there(150) --> False\n",
    "    almost_there(209) --> True\n",
    "    \n",
    "NOTE: `abs(num)` returns the absolute value of a number"
   ]
  },
  {
   "cell_type": "code",
   "execution_count": null,
   "metadata": {},
   "outputs": [],
   "source": [
    "def check(x):\n",
    "    if (x>=90 and x<=110) or (x>=190 and x<=210):\n",
    "        print('True')\n",
    "    else:\n",
    "        print('False')\n",
    "x=int(input(\"please enter a number\"))\n",
    "check(x)"
   ]
  },
  {
   "cell_type": "markdown",
   "metadata": {},
   "source": [
    "#### BLACKJACK: Given three integers between 1 and 11, if their sum is less than or equal to 21, return their sum. If their sum exceeds 21 *and* there's an eleven, reduce the total sum by 10. Finally, if the sum  exceeds 21, return 'BUST'\n",
    "    blackjack(5,6,7) --> 18\n",
    "    blackjack(9,9,9) --> 'BUST'\n",
    "    blackjack(9,9,11) --> 19"
   ]
  },
  {
   "cell_type": "code",
   "execution_count": 2,
   "metadata": {},
   "outputs": [
    {
     "name": "stdout",
     "output_type": "stream",
     "text": [
      "please enter a number 8\n",
      "please enter a number 9\n",
      "please enter a number 11\n",
      "18\n"
     ]
    }
   ],
   "source": [
    "def blckjack(list1):\n",
    "    u=0\n",
    "    for i in range(0,3):\n",
    "        u=u+list1[i]\n",
    "    if u<=21:\n",
    "        return u\n",
    "    elif u>21 and (list1[0]== 11 or list1[1]==11 or list1[2]==11):\n",
    "        u=u-10\n",
    "        return u\n",
    "    else:\n",
    "        return('bust')\n",
    "\n",
    "list1=[]\n",
    "for i in range(0,3):\n",
    "    x=int(input(\"please enter a number \"))\n",
    "    list1.append(x)\n",
    "x=blckjack(list1)\n",
    "print(x)\n"
   ]
  }
 ],
 "metadata": {
  "kernelspec": {
   "display_name": "Python 3",
   "language": "python",
   "name": "python3"
  },
  "language_info": {
   "codemirror_mode": {
    "name": "ipython",
    "version": 3
   },
   "file_extension": ".py",
   "mimetype": "text/x-python",
   "name": "python",
   "nbconvert_exporter": "python",
   "pygments_lexer": "ipython3",
   "version": "3.8.8"
  }
 },
 "nbformat": 4,
 "nbformat_minor": 2
}
